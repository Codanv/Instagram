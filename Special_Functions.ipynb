{
 "cells": [
  {
   "cell_type": "markdown",
   "metadata": {},
   "source": [
    "## Block Diagonal Matrix"
   ]
  },
  {
   "cell_type": "code",
   "execution_count": 1,
   "metadata": {},
   "outputs": [
    {
     "name": "stdout",
     "output_type": "stream",
     "text": [
      "[[0 1 0 0 0]\n",
      " [1 0 0 0 0]\n",
      " [0 0 3 6 0]\n",
      " [0 0 2 9 0]\n",
      " [0 0 0 0 5]] \n",
      "\n",
      " [[0. 1. 0. 0. 0. 0. 0. 0.]\n",
      " [1. 0. 0. 0. 0. 0. 0. 0.]\n",
      " [0. 0. 3. 6. 0. 0. 0. 0.]\n",
      " [0. 0. 2. 9. 0. 0. 0. 0.]\n",
      " [0. 0. 0. 0. 5. 0. 0. 0.]\n",
      " [0. 0. 0. 0. 0. 1. 1. 1.]\n",
      " [0. 0. 0. 0. 0. 1. 1. 1.]]\n"
     ]
    }
   ],
   "source": [
    "import numpy as np\n",
    "from scipy import linalg\n",
    "\n",
    "A = np.array([[0, 1],[1, 0]])\n",
    "B = np.array([[3, 6], [2, 9]])\n",
    "C = np.array([[5]])\n",
    "X = np.ones((2, 3))\n",
    "\n",
    "bdm = linalg.block_diag(A, B, C)\n",
    "bdm2 = linalg.block_diag(A, B, C, X)\n",
    "\n",
    "print(bdm, '\\n\\n', bdm2)"
   ]
  },
  {
   "cell_type": "markdown",
   "metadata": {},
   "source": [
    "## Circulant Matrix "
   ]
  },
  {
   "cell_type": "code",
   "execution_count": 5,
   "metadata": {},
   "outputs": [
    {
     "name": "stdout",
     "output_type": "stream",
     "text": [
      "[[2 6 4]\n",
      " [4 2 6]\n",
      " [6 4 2]] \n",
      "\n",
      " [[2 3 1]\n",
      " [1 2 3]\n",
      " [3 1 2]]\n"
     ]
    }
   ],
   "source": [
    "# Assuming, numpy as np and scipy.linalg imported\n",
    "\n",
    "# Construct a circulant matrix\n",
    "c1 = linalg.circulant([2, 4, 6])\n",
    "\n",
    "c2 = linalg.circulant([2, 1, 3])\n",
    "\n",
    "print(c1, '\\n\\n', c2)"
   ]
  },
  {
   "cell_type": "markdown",
   "metadata": {},
   "source": [
    "## Companion Matrix"
   ]
  },
  {
   "cell_type": "code",
   "execution_count": 11,
   "metadata": {},
   "outputs": [
    {
     "name": "stdout",
     "output_type": "stream",
     "text": [
      "[[-6.  3.  0.]\n",
      " [ 1.  0.  0.]\n",
      " [ 0.  1.  0.]] \n",
      "\n",
      " [[-1.33333333 -1.66666667 -2.        ]\n",
      " [ 1.          0.          0.        ]\n",
      " [ 0.          1.          0.        ]]\n"
     ]
    }
   ],
   "source": [
    "# Assuming, numpy as np and scipy.linalg imported\n",
    "\n",
    "# Create a companion matrix\n",
    "cmp1 = linalg.companion([1, 6, -3, 0])\n",
    "\n",
    "cmp2 = linalg.companion([3, 4, 5, 6])\n",
    "\n",
    "print(cmp1, '\\n\\n', cmp2)"
   ]
  },
  {
   "cell_type": "markdown",
   "metadata": {},
   "source": [
    "## Hadamard Matrix"
   ]
  },
  {
   "cell_type": "code",
   "execution_count": 21,
   "metadata": {},
   "outputs": [
    {
     "name": "stdout",
     "output_type": "stream",
     "text": [
      "[[ 1  1]\n",
      " [ 1 -1]] \n",
      "\n",
      " [[ 1.+0.j  1.+0.j]\n",
      " [ 1.+0.j -1.-0.j]] \n",
      "\n",
      " [[ 1.  1.  1.  1.]\n",
      " [ 1. -1.  1. -1.]\n",
      " [ 1.  1. -1. -1.]\n",
      " [ 1. -1. -1.  1.]]\n"
     ]
    }
   ],
   "source": [
    "# Assuming, numpy as np and scipy.linalg imported\n",
    "\n",
    "# Constructs an n-by-n Hadamard matrix, using Sylvester's\n",
    "# construction.  `n` must be a power of 2\n",
    "h1 = linalg.hadamard(2)\n",
    "h2 = linalg.hadamard(2, dtype='complex')\n",
    "h3 = linalg.hadamard(4, dtype='float')\n",
    "\n",
    "print(h1, '\\n\\n', h2, '\\n\\n', h3)"
   ]
  },
  {
   "cell_type": "markdown",
   "metadata": {},
   "source": [
    "## Hankel Matrix"
   ]
  },
  {
   "cell_type": "code",
   "execution_count": 24,
   "metadata": {},
   "outputs": [
    {
     "name": "stdout",
     "output_type": "stream",
     "text": [
      "[[3 5 7]\n",
      " [5 7 0]\n",
      " [7 0 0]] \n",
      "\n",
      " [[2 4 6]\n",
      " [4 6 7]\n",
      " [6 7 8]]\n"
     ]
    }
   ],
   "source": [
    "# Assuming, numpy as np and scipy.linalg imported\n",
    "\n",
    "# The Hankel matrix has constant anti-diagonals, with `c` as its\n",
    "# first column and `r` as its last row.  If `r` is not given, then\n",
    "# `r = zeros_like(c)` is assumed\n",
    "h1 = linalg.hankel([3, 5, 7])\n",
    "h2 = linalg.hankel([2, 4, 6], [6, 7, 8])\n",
    "\n",
    "print(h1, '\\n\\n', h2)"
   ]
  },
  {
   "cell_type": "markdown",
   "metadata": {},
   "source": [
    "## Hilbert Matrix"
   ]
  },
  {
   "cell_type": "code",
   "execution_count": 30,
   "metadata": {},
   "outputs": [
    {
     "name": "stdout",
     "output_type": "stream",
     "text": [
      "[[1.         0.5       ]\n",
      " [0.5        0.33333333]] \n",
      "\n",
      " [[1.         0.5       ]\n",
      " [0.5        0.33333333]]\n"
     ]
    }
   ],
   "source": [
    "# Assuming, numpy as np and scipy.linalg imported\n",
    "\n",
    "# Create a Hilbert matrix of order `n`.\n",
    "# Returns the `n` by `n` array with entries `h[i,j] = 1 / (i + j + 1)`\n",
    "\n",
    "hl1 = linalg.hilbert(2)\n",
    "hl2 = linalg.hilbert(2)\n",
    "\n",
    "print(hl1,'\\n\\n', hl2)"
   ]
  },
  {
   "cell_type": "markdown",
   "metadata": {},
   "source": [
    "## Inverse Hilbert Matrix"
   ]
  },
  {
   "cell_type": "code",
   "execution_count": 42,
   "metadata": {},
   "outputs": [
    {
     "name": "stdout",
     "output_type": "stream",
     "text": [
      "[[   16.  -120.   240.  -140.]\n",
      " [ -120.  1200. -2700.  1680.]\n",
      " [  240. -2700.  6480. -4200.]\n",
      " [ -140.  1680. -4200.  2800.]] \n",
      "\n",
      " [[   16  -120   240  -140]\n",
      " [ -120  1200 -2700  1680]\n",
      " [  240 -2700  6480 -4200]\n",
      " [ -140  1680 -4200  2800]]\n",
      "-4.8682817765565984e+17\n",
      "-486828177655659840\n"
     ]
    }
   ],
   "source": [
    "# Assuming, numpy as np and scipy.linalg imported\n",
    "\n",
    "# Inverse of Hilbert\n",
    "hli = linalg.invhilbert(4)\n",
    "hli2 = linalg.invhilbert(4, exact=True)\n",
    "\n",
    "print(hli, '\\n\\n', hli2)\n",
    "print(linalg.invhilbert(16)[5][6])\n",
    "print(linalg.invhilbert(16, exact=True)[5][6])"
   ]
  },
  {
   "cell_type": "markdown",
   "metadata": {},
   "source": [
    "## Leslie Matrix"
   ]
  },
  {
   "cell_type": "code",
   "execution_count": 48,
   "metadata": {},
   "outputs": [
    {
     "name": "stdout",
     "output_type": "stream",
     "text": [
      "[[1 2 3 4]\n",
      " [5 0 0 0]\n",
      " [0 6 0 0]\n",
      " [0 0 7 0]] \n",
      "\n",
      " [[ 1  2  3]\n",
      " [-3  0  0]\n",
      " [ 0  2  0]]\n"
     ]
    }
   ],
   "source": [
    "# Assuming, numpy as np and scipy.linalg imported\n",
    "\n",
    "# Create a Leslie matrix\n",
    "\n",
    "# Given the length n array of fecundity coefficients `f` and\n",
    "# the length n-1 array of survival coefficients `s`, return \n",
    "# the associated Leslie matrix.\n",
    "x = linalg.leslie([1, 2, 3, 4], [5, 6, 7])\n",
    "\n",
    "y = linalg.leslie([1, 2, 3], [-3, 2])\n",
    "\n",
    "print(x, '\\n\\n', y)"
   ]
  },
  {
   "cell_type": "markdown",
   "metadata": {},
   "source": [
    "## Pascal Matrix"
   ]
  },
  {
   "cell_type": "code",
   "execution_count": 56,
   "metadata": {},
   "outputs": [
    {
     "name": "stdout",
     "output_type": "stream",
     "text": [
      "[[ 1  1  1  1]\n",
      " [ 1  2  3  4]\n",
      " [ 1  3  6 10]\n",
      " [ 1  4 10 20]] \n",
      "\n",
      " [[1 0 0 0]\n",
      " [1 1 0 0]\n",
      " [1 2 1 0]\n",
      " [1 3 3 1]] \n",
      "\n",
      "40116600\n"
     ]
    }
   ],
   "source": [
    "# Assuming, numpy as np and scipy.linalg imported\n",
    "\n",
    "# The Pascal matrix is a matrix containing the binomial \n",
    "# coefficients as its elements\n",
    "pa1 = linalg.pascal(4) # kind='symmetric'\n",
    "pa2 = linalg.pascal(4, kind='lower')\n",
    "\n",
    "print(pa1, '\\n\\n', pa2, '\\n')\n",
    "print(linalg.pascal(15)[-1, -1])"
   ]
  },
  {
   "cell_type": "markdown",
   "metadata": {},
   "source": [
    "## Toeplitz Matrix"
   ]
  },
  {
   "cell_type": "code",
   "execution_count": 66,
   "metadata": {},
   "outputs": [
    {
     "name": "stdout",
     "output_type": "stream",
     "text": [
      "[[2 3 4]\n",
      " [3 2 3]\n",
      " [4 3 2]] \n",
      "\n",
      " [[2 6 7]\n",
      " [3 2 6]\n",
      " [4 3 2]] \n",
      "\n",
      " [[2.+0.j 3.-2.j 6.+1.j]\n",
      " [3.+2.j 2.+0.j 3.-2.j]\n",
      " [6.-1.j 3.+2.j 2.+0.j]]\n"
     ]
    }
   ],
   "source": [
    "# Assuming, numpy as np and scipy.linalg imported\n",
    "\n",
    "# The Toeplitz matrix has constant diagonals, with c \n",
    "# as its first column and r as its first row.  \n",
    "# If r is not given, ``r == conjugate(c)`` is assumed\n",
    "toe1 = linalg.toeplitz([2, 3, 4])\n",
    "toe2 = linalg.toeplitz([2, 3, 4], [75, 6, 7])\n",
    "toe3 = linalg.toeplitz([2.0, 3+2j, 6-1j])\n",
    "\n",
    "print(toe1, '\\n\\n', toe2, '\\n\\n', toe3)"
   ]
  },
  {
   "cell_type": "markdown",
   "metadata": {},
   "source": [
    "## Van der Monde Matrix"
   ]
  },
  {
   "cell_type": "code",
   "execution_count": 77,
   "metadata": {},
   "outputs": [
    {
     "name": "stdout",
     "output_type": "stream",
     "text": [
      "[[ 81  27   9   3   1]\n",
      " [625 125  25   5   1]] \n",
      "\n",
      " [[7 1]\n",
      " [4 1]] \n",
      "\n",
      " [[  1   6  36 216]\n",
      " [  1   2   4   8]]\n"
     ]
    }
   ],
   "source": [
    "# Assuming, numpy as np and scipy.linalg imported\n",
    "\n",
    "# Generate a Vandermonde matrix\n",
    "vm1 = np.vander(np.array([3, 5]), 5)\n",
    "vm2 = np.vander(np.array([7, 4]))\n",
    "vm3 = np.vander(np.array([6, 2]), 4, increasing=True)\n",
    "\n",
    "print(vm1, '\\n\\n', vm2, '\\n\\n', vm3)"
   ]
  }
 ],
 "metadata": {
  "kernelspec": {
   "display_name": "Python 3",
   "language": "python",
   "name": "python3"
  },
  "language_info": {
   "codemirror_mode": {
    "name": "ipython",
    "version": 3
   },
   "file_extension": ".py",
   "mimetype": "text/x-python",
   "name": "python",
   "nbconvert_exporter": "python",
   "pygments_lexer": "ipython3",
   "version": "3.7.4"
  }
 },
 "nbformat": 4,
 "nbformat_minor": 2
}
