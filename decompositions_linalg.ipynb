{
 "cells": [
  {
   "cell_type": "markdown",
   "metadata": {},
   "source": [
    "# Decompositions"
   ]
  },
  {
   "cell_type": "markdown",
   "metadata": {},
   "source": [
    " ## Eigenvalues and eigenvectors"
   ]
  },
  {
   "cell_type": "code",
   "execution_count": 64,
   "metadata": {},
   "outputs": [
    {
     "name": "stdout",
     "output_type": "stream",
     "text": [
      "[6.70156212+0.j 0.29843788+0.j]\n",
      "[0.87979045 0.47536171]\n",
      "[-0.80372182  0.59500525]\n"
     ]
    }
   ],
   "source": [
    "# A matrix decomposition or matrix factorization is a\n",
    "# factorization of a matrix into a product of matrices\n",
    "# help(linalg.eig)\n",
    "import numpy as np\n",
    "from scipy import linalg\n",
    "\n",
    "A = np.array([[4, 5], [2, 3]])\n",
    "# Solve an ordinary or generalized eigenvalue problem \n",
    "# of a square matrix\n",
    "la, v = linalg.eig(A)\n",
    "\n",
    "# eigenvalues\n",
    "print(la) # linalg.eigvals(A)\n",
    "\n",
    "# right eigenvectors\n",
    "print(v[:, 0]) # first eigenvector\n",
    "print(v[:, 1]) # second eigenvector"
   ]
  },
  {
   "cell_type": "markdown",
   "metadata": {},
   "source": [
    "## Singular value decomposition"
   ]
  },
  {
   "cell_type": "code",
   "execution_count": 23,
   "metadata": {},
   "outputs": [
    {
     "name": "stdout",
     "output_type": "stream",
     "text": [
      "[[-0.89846137 -0.43905258]\n",
      " [-0.43905258  0.89846137]] [[11.63661999  0.          0.        ]\n",
      " [ 0.          1.89448549  0.        ]] [[-0.53697011 -0.57644969 -0.61592926]\n",
      " [ 0.73823873  0.03223494 -0.67376886]\n",
      " [ 0.40824829 -0.81649658  0.40824829]]\n",
      "[[5. 6. 7.]\n",
      " [4. 3. 2.]]\n"
     ]
    }
   ],
   "source": [
    "# Assuming, numpy as np and scipy.linalg imported\n",
    "\n",
    "X = np.array([[5, 6, 7], [4, 3, 2]])\n",
    "M, N = X.shape\n",
    "# Singular Value Decomposition\n",
    "U, s, Vh = linalg.svd(X)\n",
    "# Construct the sigma matrix in SVD from singular values and size M, N\n",
    "Sig = linalg.diagsvd(s, M, N)\n",
    "print(U, Sig, Vh)\n",
    "print(U.dot(Sig.dot(Vh))) # checking computation      "
   ]
  },
  {
   "cell_type": "markdown",
   "metadata": {},
   "source": [
    "## LU Decomposition"
   ]
  },
  {
   "cell_type": "code",
   "execution_count": 28,
   "metadata": {},
   "outputs": [
    {
     "name": "stdout",
     "output_type": "stream",
     "text": [
      "[[1. 0.]\n",
      " [0. 1.]] \n",
      "\n",
      " [[1.         0.        ]\n",
      " [0.66666667 1.        ]] \n",
      "\n",
      " [[3.         4.         5.         6.        ]\n",
      " [0.         0.33333333 0.66666667 1.        ]]\n"
     ]
    }
   ],
   "source": [
    "# Assuming, numpy as np and scipy.linalg imported\n",
    "\n",
    "Y = np.array([[3, 4, 5, 6], [2, 3, 4, 5]])\n",
    "# Compute pivoted LU decomposition of a matrix\n",
    "#\n",
    "# P is a permutation matrix, L lower triangular with unit\n",
    "# diagonal elements, and U upper triangular.\n",
    "p, l, u = linalg.lu(Y)\n",
    "\n",
    "print(p, '\\n\\n', l, '\\n\\n',  u)"
   ]
  },
  {
   "cell_type": "markdown",
   "metadata": {},
   "source": [
    "## Cholesky decomposition"
   ]
  },
  {
   "cell_type": "code",
   "execution_count": 45,
   "metadata": {},
   "outputs": [
    {
     "name": "stdout",
     "output_type": "stream",
     "text": [
      "[[2.        +0.j  0.        +0.j ]\n",
      " [0.        +1.5j 1.93649167+0.j ]] \n",
      "\n",
      "[[4.+0.j 0.-3.j]\n",
      " [0.+3.j 6.+0.j]]\n"
     ]
    }
   ],
   "source": [
    "# Assuming, numpy as np and scipy.linalg imported\n",
    "\n",
    "A = np.array([[4, -7j], [3j, 6]])\n",
    "B = np.array([[4, 5], [2, 7]])\n",
    "\n",
    "# Compute the Cholesky decomposition of a matrix\n",
    "L = linalg.cholesky(A, lower=True)\n",
    "\n",
    "print(L, '\\n')\n",
    "print(L @ L.T.conj())"
   ]
  },
  {
   "cell_type": "markdown",
   "metadata": {},
   "source": [
    "## QR decomposition"
   ]
  },
  {
   "cell_type": "code",
   "execution_count": 57,
   "metadata": {},
   "outputs": [
    {
     "name": "stdout",
     "output_type": "stream",
     "text": [
      "[[-0.47289654 -0.43964679 -0.65850007 -0.38659698]\n",
      " [ 0.75121119 -0.48325088  0.04575619 -0.44727698]\n",
      " [ 0.1011651   0.73545853 -0.18576766 -0.64370548]\n",
      " [ 0.44923962  0.17966645 -0.72785603  0.4859314 ]] [[ 2.90385848 -0.51703513  0.80787654  1.16588604  1.47222036  0.09559155\n",
      "   1.39781295 -1.2245903 ]\n",
      " [ 0.         -1.02671409  0.12344472 -0.9825988  -1.21068879  1.81746602\n",
      "   0.51686243 -1.17139365]\n",
      " [ 0.          0.          1.63116     0.063373    0.43376926  1.68481712\n",
      "  -0.29861887 -0.44832639]\n",
      " [ 0.          0.          0.          1.30166552  0.74194181 -0.42847715\n",
      "   0.19178222  0.71456357]]\n"
     ]
    }
   ],
   "source": [
    "# Assuming, numpy as np and scipy.linalg imported\n",
    "from scipy import allclose\n",
    "# Calculate the decomposition ``A = Q R`` where Q \n",
    "# is unitary/orthogonal and R upper triangular\n",
    "a = np.random.randn(4, 8)\n",
    "\n",
    "q, r = linalg.qr(a) # mode='full'\n",
    "# allclose(a, q @ r) # True\n",
    "print(q, r)\n",
    "\n",
    "r2 = linalg.qr(a, mode='r')\n",
    "# allclose(r, r2) # True\n",
    "# help(linalg.qr)"
   ]
  },
  {
   "cell_type": "markdown",
   "metadata": {},
   "source": [
    "## Schur decomposition"
   ]
  },
  {
   "cell_type": "code",
   "execution_count": 67,
   "metadata": {},
   "outputs": [
    {
     "name": "stdout",
     "output_type": "stream",
     "text": [
      "[[6.70156212 3.        ]\n",
      " [0.         0.29843788]] [[ 0.87979045 -0.47536171]\n",
      " [ 0.47536171  0.87979045]]\n",
      "[[6.70156212+0.j 3.        +0.j]\n",
      " [0.        +0.j 0.29843788+0.j]] [[ 0.87979045+0.j -0.47536171+0.j]\n",
      " [ 0.47536171+0.j  0.87979045+0.j]]\n",
      "[6.70156212+0.j 0.29843788+0.j]\n",
      "[[ 0.00000000e+00+0.j -4.44089210e-16+0.j]\n",
      " [ 0.00000000e+00+0.j  2.22044605e-16+0.j]]\n"
     ]
    }
   ],
   "source": [
    "# Assuming, numpy as np and scipy.linalg imported\n",
    "\n",
    "matrix1 = np.mat('[1 2 3; 4 5 7; 1 0 3]') # matrix\n",
    "\n",
    "T, Z = linalg.schur(A)\n",
    "print(T, Z)\n",
    "\n",
    "T2, Z2 = linalg.schur(A, output='complex')\n",
    "print(T2, Z2)\n",
    "\n",
    "print(linalg.eigvals(T2))\n",
    "print(T - T2) # help(linalg.schur)"
   ]
  },
  {
   "cell_type": "markdown",
   "metadata": {},
   "source": [
    "### That's all for now\n",
    "seek help as per requirement"
   ]
  }
 ],
 "metadata": {
  "kernelspec": {
   "display_name": "Python 3",
   "language": "python",
   "name": "python3"
  },
  "language_info": {
   "codemirror_mode": {
    "name": "ipython",
    "version": 3
   },
   "file_extension": ".py",
   "mimetype": "text/x-python",
   "name": "python",
   "nbconvert_exporter": "python",
   "pygments_lexer": "ipython3",
   "version": "3.7.4"
  }
 },
 "nbformat": 4,
 "nbformat_minor": 2
}
