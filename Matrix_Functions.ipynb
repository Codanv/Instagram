{
 "cells": [
  {
   "cell_type": "markdown",
   "metadata": {},
   "source": [
    "## Matrix Exponential Functions"
   ]
  },
  {
   "cell_type": "code",
   "execution_count": 15,
   "metadata": {},
   "outputs": [
    {
     "name": "stdout",
     "output_type": "stream",
     "text": [
      "[[2.22044605e-16 2.49290096e+00]\n",
      " [1.24645048e+00 8.88178420e-16]] \n",
      "\n",
      " [[3. 4.]\n",
      " [2. 3.]]\n"
     ]
    }
   ],
   "source": [
    "import numpy as np\n",
    "from scipy import linalg\n",
    "\n",
    "a = np.array([[3., 4.], [2., 3.]])\n",
    "\n",
    "# Compute matrix logarithm.\n",
    "x = linalg.logm(a)\n",
    "\n",
    "# Verify expm(logm(a)) returns a\n",
    "a2 = linalg.expm(x)\n",
    "\n",
    "print(x,'\\n\\n', a2)"
   ]
  },
  {
   "cell_type": "markdown",
   "metadata": {},
   "source": [
    "## Matrix Trigonometric Functions"
   ]
  },
  {
   "cell_type": "code",
   "execution_count": 28,
   "metadata": {},
   "outputs": [
    {
     "name": "stdout",
     "output_type": "stream",
     "text": [
      "[[-1.41019446  2.33347251]\n",
      " [-1.16673626  0.92327806]] \n",
      "\n",
      " [[-1.41019446  2.33347251]\n",
      " [-1.16673626  0.92327806]] \n",
      "\n",
      " [[ 1.89217551 -0.97811252]\n",
      " [ 0.48905626  0.91406299]] \n",
      "\n",
      " [[ 0.4264593  -2.13721484]\n",
      " [ 1.06860742 -1.71075555]]\n"
     ]
    }
   ],
   "source": [
    "# Assuming, numpy as np and scipy.linalg imported\n",
    "\n",
    "a = np.array([[1.0, 2.0], [-1.0, 3.0]])\n",
    "\n",
    "t = linalg.tanm(a) # matrix cosine\n",
    "\n",
    "s = linalg.sinm(a) # matrix sine\n",
    "c = linalg.cosm(a) # matrix cosine\n",
    "\n",
    "t2 = s.dot(linalg.inv(c)) # matrix tangent\n",
    "print(t, '\\n\\n', t2, '\\n\\n', s, '\\n\\n', c)"
   ]
  },
  {
   "cell_type": "markdown",
   "metadata": {},
   "source": [
    "## Matrix Hyperbolic Trigonometric Functions"
   ]
  },
  {
   "cell_type": "code",
   "execution_count": 33,
   "metadata": {},
   "outputs": [
    {
     "name": "stdout",
     "output_type": "stream",
     "text": [
      "[[ 2831.58406478  7736.57087241]\n",
      " [ 3868.28543621 10568.1549372 ]] \n",
      "\n",
      " [[ 2832.54366344  7735.86842475]\n",
      " [ 3867.93421238 10568.4120882 ]] \n",
      "\n",
      " [[0.05857833 0.68916849]\n",
      " [0.34458424 0.74774682]] \n",
      "\n",
      " [[0.05857833 0.68916849]\n",
      " [0.34458424 0.74774682]]\n"
     ]
    }
   ],
   "source": [
    "# Assuming, numpy as np and scipy.linalg imported\n",
    "\n",
    "a = np.array([[2, 6], [3, 8]])\n",
    "\n",
    "# Compute the hyperbolic matrix sine\n",
    "shm = linalg.sinhm(a)\n",
    "chm = linalg.coshm(a)\n",
    "thm = linalg.tanhm(a)\n",
    "\n",
    "verify_thm = shm.dot(linalg.inv(chm))\n",
    "\n",
    "print(shm,'\\n\\n', chm, '\\n\\n', thm, '\\n\\n', verify_thm)"
   ]
  },
  {
   "cell_type": "markdown",
   "metadata": {},
   "source": [
    "## Matrix Arbitrary function"
   ]
  },
  {
   "cell_type": "code",
   "execution_count": 43,
   "metadata": {},
   "outputs": [
    {
     "name": "stdout",
     "output_type": "stream",
     "text": [
      "[[26. 10.]\n",
      " [25. 11.]] \n",
      "\n",
      "[[26 10]\n",
      " [25 11]]\n"
     ]
    }
   ],
   "source": [
    "## Assuming, numpy as np and scipy.linalg imported\n",
    "\n",
    "a = np.array([[4, 2], [5, 1]])\n",
    "\n",
    "# Evaluate a matrix function specified by a callable\n",
    "x = linalg.funm(a, lambda x: x**2)\n",
    "\n",
    "print(x, '\\n')\n",
    "\n",
    "# alternative of above function\n",
    "print(a @ a) # a.dot(a)"
   ]
  }
 ],
 "metadata": {
  "kernelspec": {
   "display_name": "Python 3",
   "language": "python",
   "name": "python3"
  },
  "language_info": {
   "codemirror_mode": {
    "name": "ipython",
    "version": 3
   },
   "file_extension": ".py",
   "mimetype": "text/x-python",
   "name": "python",
   "nbconvert_exporter": "python",
   "pygments_lexer": "ipython3",
   "version": "3.7.4"
  }
 },
 "nbformat": 4,
 "nbformat_minor": 2
}
